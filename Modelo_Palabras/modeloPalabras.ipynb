{
 "cells": [
  {
   "cell_type": "code",
   "execution_count": 11,
   "metadata": {},
   "outputs": [
    {
     "name": "stdout",
     "output_type": "stream",
     "text": [
      "loading Roboflow workspace...\n",
      "loading Roboflow project...\n"
     ]
    }
   ],
   "source": [
    "from roboflow import Roboflow\n",
    "\n",
    "rf = Roboflow(api_key=\"GFoDeF6xcsj0qTPFO5r7\")\n",
    "project = rf.workspace().project(\"signa-sync\")\n",
    "model = project.version(3).model\n",
    "\n",
    "# infer on a local image\n",
    "#print(model.predict(\"./vives_6.mp4\").json())\n",
    "\n",
    "\n",
    "# save an image annotated with your predictions\n",
    "#model.predict(\"./vives_6.mp4\").save(\"prediction.jpg\")"
   ]
  },
  {
   "cell_type": "code",
   "execution_count": 12,
   "metadata": {},
   "outputs": [],
   "source": [
    "import cv2\n",
    "\n",
    "# Opens the Video file\n",
    "cap= cv2.VideoCapture('vives_5.mp4')\n",
    "i=0\n",
    "sampling_rate = 15\n",
    "while(cap.isOpened()):\n",
    "    ret, frame = cap.read()\n",
    "    if ret == False:\n",
    "        break\n",
    "    if i % sampling_rate == 0: # this is the line I added to make it only save one frame every 20\n",
    "        # frame redim\n",
    "        frame = cv2.resize(frame, (640, 480))\n",
    "        cv2.imwrite('./tmp/frame_'+str(i)+'.jpg',frame)\n",
    "    i+=1\n",
    "\n",
    "cap.release()"
   ]
  },
  {
   "cell_type": "code",
   "execution_count": 4,
   "metadata": {},
   "outputs": [
    {
     "name": "stdout",
     "output_type": "stream",
     "text": [
      "{'como_estas': 15, 'vives': 1}\n"
     ]
    }
   ],
   "source": [
    "import os\n",
    "from threading import Thread\n",
    "\n",
    "class PredictFrame(Thread):\n",
    "    def __init__(self, frame_path):\n",
    "        Thread.__init__(self)\n",
    "        self.frame_path = frame_path\n",
    "        self.result = None\n",
    "\n",
    "    def run(self):\n",
    "        prediction = model.predict(self.frame_path).json()\n",
    "        prediction = prediction['predictions'][0]['predictions'][0]\n",
    "        if prediction['confidence'] < 0.2:\n",
    "            self.result = None\n",
    "        else:\n",
    "            self.result = prediction['class']\n",
    "\n",
    "class FramesPredictor(Thread):\n",
    "    def __init__(self):\n",
    "        Thread.__init__(self)\n",
    "        self.result = None\n",
    "\n",
    "    def run(self):\n",
    "        classes_frequency = {}\n",
    "        threads = []\n",
    "        for image in os.listdir('./tmp'):\n",
    "            thread = PredictFrame('./tmp/' + image)\n",
    "            thread.start()\n",
    "            threads.append(thread)\n",
    "        while len(threads) > 0:\n",
    "            thread = threads.pop()\n",
    "            thread.join()\n",
    "            prediction = thread.result\n",
    "            if prediction in classes_frequency:\n",
    "                classes_frequency[prediction] += 1\n",
    "            else:\n",
    "                classes_frequency[prediction] = 1\n",
    "        self.result = classes_frequency\n",
    "frames_predictor = FramesPredictor()\n",
    "frames_predictor.start()\n",
    "frames_predictor.join()\n",
    "print(frames_predictor.result)"
   ]
  },
  {
   "cell_type": "code",
   "execution_count": 13,
   "metadata": {},
   "outputs": [
    {
     "name": "stdout",
     "output_type": "stream",
     "text": [
      "{'hola': 2, 'donde': 3, 'disculpa': 5, 'como_estas': 2}\n",
      "{'hola': 8, 'vives': 3, 'donde': 1}\n"
     ]
    }
   ],
   "source": [
    "\n",
    "import cv2\n",
    "import shutil\n",
    "\n",
    "def start_live_demo():\n",
    "    # Abre la cámara predeterminada (puedes cambiar a otro número si tienes múltiples cámaras)\n",
    "    cap = cv2.VideoCapture(1)\n",
    "    \n",
    "    frame_number = 0\n",
    "    sample_every = 7\n",
    "    frames_to_predict = 12\n",
    "    sampled_frames = 0\n",
    "\n",
    "    if os.path.exists('./sampled_frames'):\n",
    "        shutil.rmtree('./sampled_frames')\n",
    "    os.mkdir('./sampled_frames')\n",
    "    prediction = None\n",
    "    texto = \"\"\n",
    "    #Definir el texto y las propiedades del texto\n",
    "    font = cv2.FONT_HERSHEY_SIMPLEX\n",
    "    escala = 1\n",
    "    color = (255, 255, 255)  # Color en formato BGR\n",
    "    grosor = 2\n",
    "    tipo_linea = cv2.LINE_AA\n",
    "    capturing = False\n",
    "    while True:\n",
    "        # Lee el frame desde la cámara\n",
    "        ret, frame = cap.read()\n",
    "\n",
    "        # Verifica si la lectura fue exitosa\n",
    "        if not ret:\n",
    "            print(\"Error al leer el frame de la cámara.\")\n",
    "            break\n",
    "\n",
    "        if frame_number % sample_every == 0 and prediction is None:\n",
    "            # Guarda el frame en un archivo\n",
    "            cv2.imwrite('./sampled_frames/frame_'+str(frame_number)+'.jpg', frame)\n",
    "            sampled_frames += 1\n",
    "            capturing = True\n",
    "        elif frames_to_predict == sampled_frames:\n",
    "            capturing = False\n",
    "            if prediction is None:\n",
    "                if os.path.exists('./tmp'):\n",
    "                    shutil.rmtree('./tmp')\n",
    "                shutil.copytree('./sampled_frames', './tmp')\n",
    "                prediction = FramesPredictor()\n",
    "                prediction.start()\n",
    "                shutil.rmtree('./sampled_frames')\n",
    "                os.mkdir('./sampled_frames') \n",
    "                sampled_frames = 0\n",
    "        if prediction and prediction.result is not None:\n",
    "            # Show text\n",
    "            print(prediction.result)\n",
    "            best_prediction = None\n",
    "            best_prediction_count = 0\n",
    "            for key in prediction.result.keys():\n",
    "                if best_prediction is None:\n",
    "                    best_prediction = key\n",
    "                    best_prediction_count = prediction.result[key]\n",
    "                elif prediction.result[key] > best_prediction_count:\n",
    "                    best_prediction = key\n",
    "                    best_prediction_count = prediction.result[key]\n",
    "            # Añadir el texto al frame\n",
    "            texto = best_prediction\n",
    "            prediction = None\n",
    "            shutil.rmtree('./tmp')\n",
    "        elif prediction is not None:\n",
    "            capturing = False\n",
    "            cv2.putText(frame, \"Procesando\", (50, 100), font, escala, (0,0,255), grosor, tipo_linea)\n",
    "        frame_number += 1\n",
    "        # Rompe el bucle si se presiona la tecla 'q'\n",
    "        if cv2.waitKey(1) & 0xFF == ord('q'):\n",
    "            break\n",
    "        cv2.putText(frame, texto, (250, 400), font, escala, color, grosor, tipo_linea)\n",
    "        if capturing:\n",
    "            cv2.putText(frame, \"Capturando\", (50, 100), font, escala, (0,0,255), grosor, tipo_linea)\n",
    "        # Muestra el frame en una ventana\n",
    "        cv2.imshow('frame', frame)\n",
    "\n",
    "    # Libera la captura y cierra la ventana\n",
    "    cap.release()\n",
    "    cv2.destroyAllWindows()\n",
    "\n",
    "start_live_demo()\n"
   ]
  }
 ],
 "metadata": {
  "kernelspec": {
   "display_name": "base",
   "language": "python",
   "name": "python3"
  },
  "language_info": {
   "codemirror_mode": {
    "name": "ipython",
    "version": 3
   },
   "file_extension": ".py",
   "mimetype": "text/x-python",
   "name": "python",
   "nbconvert_exporter": "python",
   "pygments_lexer": "ipython3",
   "version": "3.10.11"
  }
 },
 "nbformat": 4,
 "nbformat_minor": 2
}
