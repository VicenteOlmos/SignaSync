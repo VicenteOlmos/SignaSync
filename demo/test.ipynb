{
 "cells": [
  {
   "cell_type": "code",
   "execution_count": 61,
   "metadata": {},
   "outputs": [],
   "source": [
    "from ultralytics import YOLO\n",
    "import os\n",
    "import ipywidgets as widgets"
   ]
  },
  {
   "cell_type": "code",
   "execution_count": 62,
   "metadata": {},
   "outputs": [],
   "source": [
    "model = YOLO('./best.pt')\n",
    "names = model.names"
   ]
  },
  {
   "cell_type": "code",
   "execution_count": 63,
   "metadata": {},
   "outputs": [
    {
     "name": "stderr",
     "output_type": "stream",
     "text": [
      "\n",
      "0: 640x384 1 A, 64.0ms\n",
      "Speed: 2.0ms preprocess, 64.0ms inference, 1.0ms postprocess per image at shape (1, 3, 640, 384)\n"
     ]
    }
   ],
   "source": [
    "results = model(['./letters/a/a_1.jpg'])\n"
   ]
  },
  {
   "cell_type": "code",
   "execution_count": 64,
   "metadata": {},
   "outputs": [],
   "source": [
    "# Cargar letras.\n",
    "letters = {}\n",
    "for folder in os.listdir('./letters'):\n",
    "    letter_images = os.listdir('./letters/' + folder)\n",
    "    if len(letter_images) > 0:\n",
    "        letters[folder] = []\n",
    "    for file in os.listdir('./letters/' + folder):\n",
    "        letters[folder].append(file)"
   ]
  },
  {
   "cell_type": "code",
   "execution_count": 68,
   "metadata": {},
   "outputs": [
    {
     "data": {
      "application/vnd.jupyter.widget-view+json": {
       "model_id": "93e1fea6fa7c433bb58733e92b334ca9",
       "version_major": 2,
       "version_minor": 0
      },
      "text/plain": [
       "HBox(children=(Dropdown(options=('a', 'b', 'c', 'e', 'f', 'g', 'h', 'i', 'j', 'k', 'l', 'm', 'n', 'o', 'p', 'q…"
      ]
     },
     "metadata": {},
     "output_type": "display_data"
    },
    {
     "data": {
      "application/vnd.jupyter.widget-view+json": {
       "model_id": "59cea39018704d8fa46f46e111fe1026",
       "version_major": 2,
       "version_minor": 0
      },
      "text/plain": [
       "HBox(children=(Image(value=b'\\xff\\xd8\\xff\\xe0\\x00\\x10JFIF\\x00\\x01\\x01\\x00\\x00\\x01\\x00\\x01\\x00\\x00\\xff\\xdb\\x00\\…"
      ]
     },
     "metadata": {},
     "output_type": "display_data"
    }
   ],
   "source": [
    "# Dropdowns.\n",
    "\n",
    "letter_dropdown = widgets.Dropdown(options=letters.keys())\n",
    "image_selector = widgets.Dropdown()\n",
    "def on_letter_dropdown_change(change):\n",
    "    if change['name'] == 'value' and change['new'] is not None:\n",
    "        image_selector.options = letters[change['new']]\n",
    "letter_dropdown.observe(on_letter_dropdown_change)\n",
    "on_letter_dropdown_change({'name' : 'value', 'new': letter_dropdown.value}) # Inicializa el segundo dropdown.\n",
    "\n",
    "# Label de predicción.\n",
    "\n",
    "label_pred = widgets.Label(value='Predicción: ')\n",
    "\n",
    "# Carga el widget de imagen.\n",
    "image_widget = widgets.Image(format='jpg', width=300, height=400)\n",
    "def on_image_selector_change(change):\n",
    "    if change['name'] == 'value' and change['new'] is not None:\n",
    "        file_path = './letters/' + letter_dropdown.value + '/' + change['new']\n",
    "        file = open(file_path, \"rb\")\n",
    "        image_widget.value = file.read()\n",
    "        file.close()\n",
    "        prediction = model.predict(file_path, verbose=False)[0]\n",
    "        if len(prediction.boxes.cls) == 0:\n",
    "            label_pred.value = 'Predicción: No se encontró ninguna letra.'\n",
    "        else:\n",
    "            label_pred.value = 'Predicción: ' + names[int(prediction.boxes.cls[0])]\n",
    "image_selector.observe(on_image_selector_change)\n",
    "on_image_selector_change({'name' : 'value', 'new': image_selector.value}) # Inicializa la imagen.\n",
    "# Mostrar dropdowns e imagen.\n",
    "display(widgets.HBox([letter_dropdown, image_selector]))\n",
    "display(widgets.HBox([image_widget, label_pred]))"
   ]
  }
 ],
 "metadata": {
  "kernelspec": {
   "display_name": "base",
   "language": "python",
   "name": "python3"
  },
  "language_info": {
   "codemirror_mode": {
    "name": "ipython",
    "version": 3
   },
   "file_extension": ".py",
   "mimetype": "text/x-python",
   "name": "python",
   "nbconvert_exporter": "python",
   "pygments_lexer": "ipython3",
   "version": "3.9.13"
  }
 },
 "nbformat": 4,
 "nbformat_minor": 2
}
