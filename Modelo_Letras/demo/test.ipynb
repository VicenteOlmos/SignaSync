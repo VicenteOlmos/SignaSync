{
 "cells": [
  {
   "cell_type": "code",
   "execution_count": 1,
   "metadata": {},
   "outputs": [],
   "source": [
    "from ultralytics import YOLO\n",
    "import os\n",
    "import ipywidgets as widgets"
   ]
  },
  {
   "cell_type": "code",
   "execution_count": 2,
   "metadata": {},
   "outputs": [],
   "source": [
    "model = YOLO('./best.pt')\n",
    "names = model.names"
   ]
  },
  {
   "cell_type": "code",
   "execution_count": 3,
   "metadata": {},
   "outputs": [
    {
     "name": "stderr",
     "output_type": "stream",
     "text": [
      "\n",
      "0: 640x384 1 A, 105.2ms\n",
      "Speed: 3.5ms preprocess, 105.2ms inference, 1.0ms postprocess per image at shape (1, 3, 640, 384)\n"
     ]
    }
   ],
   "source": [
    "results = model(['./letters/a/a_1.jpg'])\n"
   ]
  },
  {
   "cell_type": "code",
   "execution_count": 4,
   "metadata": {},
   "outputs": [],
   "source": [
    "# Cargar letras.\n",
    "letters = {}\n",
    "for folder in os.listdir('./letters'):\n",
    "    letter_images = os.listdir('./letters/' + folder)\n",
    "    if len(letter_images) > 0:\n",
    "        letters[folder] = []\n",
    "    for file in os.listdir('./letters/' + folder):\n",
    "        letters[folder].append(file)"
   ]
  },
  {
   "cell_type": "code",
   "execution_count": 5,
   "metadata": {},
   "outputs": [
    {
     "data": {
      "application/vnd.jupyter.widget-view+json": {
       "model_id": "96f9a783d9da49ee8715f5c44e70d56c",
       "version_major": 2,
       "version_minor": 0
      },
      "text/plain": [
       "HBox(children=(Dropdown(options=('a', 'b', 'c', 'e', 'f', 'g', 'h', 'i', 'j', 'k', 'l', 'm', 'n', 'o', 'p', 'q…"
      ]
     },
     "metadata": {},
     "output_type": "display_data"
    },
    {
     "data": {
      "application/vnd.jupyter.widget-view+json": {
       "model_id": "354195c47eae4e869a0ac9b7b3ff4e10",
       "version_major": 2,
       "version_minor": 0
      },
      "text/plain": [
       "HBox(children=(Image(value=b'', format='jpg', height='400', width='300'), Label(value='Predicción: ')))"
      ]
     },
     "metadata": {},
     "output_type": "display_data"
    },
    {
     "ename": "",
     "evalue": "",
     "output_type": "error",
     "traceback": [
      "\u001b[1;31mEl Kernel se bloqueó al ejecutar código en la celda actual o en una celda anterior. Revise el código de las celdas para identificar una posible causa del error. Haga clic <a href='https://aka.ms/vscodeJupyterKernelCrash'>aquí</a> para obtener más información. Vea el [registro] de Jupyter (command:jupyter.viewOutput) para obtener más detalles."
     ]
    }
   ],
   "source": [
    "# Dropdowns.\n",
    "\n",
    "letter_dropdown = widgets.Dropdown(options=letters.keys())\n",
    "image_selector = widgets.Dropdown()\n",
    "def on_letter_dropdown_change(change):\n",
    "    if change['name'] == 'value' and change['new'] is not None:\n",
    "        image_selector.options = letters[change['new']]\n",
    "letter_dropdown.observe(on_letter_dropdown_change)\n",
    "on_letter_dropdown_change({'name' : 'value', 'new': letter_dropdown.value}) # Inicializa el segundo dropdown.\n",
    "\n",
    "# Label de predicción.\n",
    "\n",
    "label_pred = widgets.Label(value='Predicción: ')\n",
    "\n",
    "# Carga el widget de imagen.\n",
    "image_widget = widgets.Image(format='jpg', width=300, height=400)\n",
    "def on_image_selector_change(change):\n",
    "    if change['name'] == 'value' and change['new'] is not None:\n",
    "        file_path = './letters/' + letter_dropdown.value + '/' + change['new']\n",
    "        file = open(file_path, \"rb\")\n",
    "        image_widget.value = file.read()\n",
    "        file.close()\n",
    "        prediction = model.predict(file_path, verbose=False)[0]\n",
    "        if len(prediction.boxes.cls) == 0:\n",
    "            label_pred.value = 'Predicción: No se encontró ninguna letra.'\n",
    "        else:\n",
    "            label_pred.value = 'Predicción: ' + names[int(prediction.boxes.cls[0])]\n",
    "image_selector.observe(on_image_selector_change)\n",
    "on_image_selector_change({'name' : 'value', 'new': image_selector.value}) # Inicializa la imagen.\n",
    "# Mostrar dropdowns e imagen.\n",
    "display(widgets.HBox([letter_dropdown, image_selector]))\n",
    "display(widgets.HBox([image_widget, label_pred]))"
   ]
  }
 ],
 "metadata": {
  "kernelspec": {
   "display_name": "base",
   "language": "python",
   "name": "python3"
  },
  "language_info": {
   "codemirror_mode": {
    "name": "ipython",
    "version": 3
   },
   "file_extension": ".py",
   "mimetype": "text/x-python",
   "name": "python",
   "nbconvert_exporter": "python",
   "pygments_lexer": "ipython3",
   "version": "3.10.11"
  }
 },
 "nbformat": 4,
 "nbformat_minor": 2
}
